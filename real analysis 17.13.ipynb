{
 "cells": [
  {
   "cell_type": "code",
   "execution_count": 2,
   "metadata": {
    "hide_input": true
   },
   "outputs": [],
   "source": [
    "import matplotlib.pyplot as plt\n",
    "import numpy as np\n",
    "from math import *\n",
    "import pandas as pd\n",
    "from sympy import *"
   ]
  },
  {
   "cell_type": "markdown",
   "metadata": {},
   "source": [
    "# 17.13\n",
    "\n",
    "**(a)** let *f(x)*=1 for rational numbers x and *f(x)*=0 for irrational numbers. Show *f* is diconinues every x in $$\\R$$\n",
    "\n",
    "**(b)** Let *h(x)* = x for rational numbers x and *h(x)* = 0 for irrational numbers. Show h is continuous at x = 0 and at no other point. "
   ]
  },
  {
   "cell_type": "markdown",
   "metadata": {},
   "source": [
    "**(a)** lets have sequence $$x_n$$ where $$\\lim_{n \\to \\infty}x_n = x_0$$\n",
    "\n",
    "for $$x_i$$ rational $$f(x_i)=1$$ and for $$x_i$$ irrational $$f(x_i)=1$$ Thus the limit is $$\n",
    "\\lim_{n \\to \\infty}f(x_n) = \\begin(array) 1 & \\text{for x rationa} \\\\ 0 & \\text{for x irational}\n",
    "\\end(array)$$"
   ]
  },
  {
   "cell_type": "markdown",
   "metadata": {},
   "source": [
    "**(a)** $$\\text{if $x_n$ is a sequence that does not converg to 0 but to $x_0$ than the above wil have $\\lim_{n \\to \\infty}f(x_n)$ converges to $x_0$ and 0 }$$\n",
    "$$\\text{if there is a $x_n$ that $\\lim_{n \\to \\infty}x_n=0$ , than when $x_i$ is rational $f(x_i)=x_i$ and irration $f(x_i)=0$ thus to functions converge at 0}$$"
   ]
  },
  {
   "cell_type": "code",
   "execution_count": null,
   "metadata": {},
   "outputs": [],
   "source": []
  }
 ],
 "metadata": {
  "kernelspec": {
   "display_name": "Python 3",
   "language": "python",
   "name": "python3"
  },
  "language_info": {
   "codemirror_mode": {
    "name": "ipython",
    "version": 3
   },
   "file_extension": ".py",
   "mimetype": "text/x-python",
   "name": "python",
   "nbconvert_exporter": "python",
   "pygments_lexer": "ipython3",
   "version": "3.7.1"
  }
 },
 "nbformat": 4,
 "nbformat_minor": 2
}
