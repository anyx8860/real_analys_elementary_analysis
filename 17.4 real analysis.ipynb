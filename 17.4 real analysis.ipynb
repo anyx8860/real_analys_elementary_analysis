{
 "cells": [
  {
   "cell_type": "code",
   "execution_count": 1,
   "metadata": {
    "hide_input": true
   },
   "outputs": [],
   "source": [
    "import matplotlib.pyplot as plt\n",
    "import numpy as np\n",
    "from math import *\n",
    "import pandas as pd\n",
    "from sympy import *"
   ]
  },
  {
   "cell_type": "markdown",
   "metadata": {},
   "source": [
    "# 17.4\n",
    "Prove the function $$\\sqrt{x}$$ is continuouse on its domain $$[0, \\infty)$$."
   ]
  },
  {
   "cell_type": "markdown",
   "metadata": {},
   "source": [
    "By Therom 17.2 will Have there be $$\\delta$$ where $$\\delta \\geq |x-x_0|$$ and a $$\\epsilon$$ where $$\\epsilon > \\delta$$"
   ]
  },
  {
   "cell_type": "markdown",
   "metadata": {},
   "source": [
    "$$|\\sqrt{x}-\\sqrt{x_0}|= \\frac{\\sqrt{x}+\\sqrt{x_0}}{\\sqrt{x}+\\sqrt{x_0}} \\cdot |\\sqrt{x}-\\sqrt{x_0}| = \\frac{|x-x_0|}{\\sqrt{x}+\\sqrt{x_0}} \\leq \\frac{\\delta}{\\sqrt{x}+\\sqrt{x_0}} \\leq \\frac{\\delta}{\\sqrt{x_0}} \\leq \\epsilon$$\n",
    "Thus by Therom 17.2 $$\\sqrt{x}$$ is contiues"
   ]
  },
  {
   "cell_type": "code",
   "execution_count": null,
   "metadata": {},
   "outputs": [],
   "source": []
  }
 ],
 "metadata": {
  "kernelspec": {
   "display_name": "Python 3",
   "language": "python",
   "name": "python3"
  },
  "language_info": {
   "codemirror_mode": {
    "name": "ipython",
    "version": 3
   },
   "file_extension": ".py",
   "mimetype": "text/x-python",
   "name": "python",
   "nbconvert_exporter": "python",
   "pygments_lexer": "ipython3",
   "version": "3.7.3"
  }
 },
 "nbformat": 4,
 "nbformat_minor": 2
}
